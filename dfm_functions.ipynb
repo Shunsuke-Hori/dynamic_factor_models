{
 "cells": [
  {
   "cell_type": "code",
   "execution_count": null,
   "metadata": {},
   "outputs": [],
   "source": [
    "using Statistics\n",
    "using DelimitedFiles\n",
    "using LinearAlgebra\n",
    "using MultivariateStats"
   ]
  },
  {
   "cell_type": "code",
   "execution_count": null,
   "metadata": {},
   "outputs": [],
   "source": [
    "abstract type EstimationMethod end\n",
    "struct NonParametric <: EstimationMethod end\n",
    "struct Parametric <: EstimationMethod end"
   ]
  },
  {
   "cell_type": "markdown",
   "metadata": {},
   "source": [
    "##### `VARModel`\n",
    "VAR model can be expressed in state-space form:\n",
    "$$y_t = Qz_t$$\n",
    "$$z_t = Mz_{t-1}+Gu_t$$\n",
    "where $z_t$ has $y_t$ and lagged $y_t$"
   ]
  },
  {
   "cell_type": "code",
   "execution_count": null,
   "metadata": {},
   "outputs": [],
   "source": [
    "struct VARModel{TA <: AbstractArray, TAm <: AbstractArray, TMm <: AbstractMatrix}\n",
    "    y::TA\n",
    "    nlag::Int\n",
    "    withconst::Bool\n",
    "    initperiod::Int\n",
    "    lastperiod::Int\n",
    "    T::Int\n",
    "    ns::Int\n",
    "    resid::TAm\n",
    "    betahat::TAm\n",
    "    M::TMm\n",
    "    Q::TMm\n",
    "    G::TMm\n",
    "    seps::TMm\n",
    "end"
   ]
  },
  {
   "cell_type": "code",
   "execution_count": null,
   "metadata": {},
   "outputs": [],
   "source": [
    "mutable struct FactorEstimateStats\n",
    "    T::Int # number of data periods used for factor estimation\n",
    "    ns::Int # number of data series\n",
    "    nobs # total number of observations (=sum_i T_i)\n",
    "    tss\n",
    "    ssr\n",
    "    R2::Vector{Union{Missing, Float64}}\n",
    "end"
   ]
  },
  {
   "cell_type": "markdown",
   "metadata": {},
   "source": [
    "Note: `factor` and `factor_var_model.y` are actually using same memory."
   ]
  },
  {
   "cell_type": "code",
   "execution_count": null,
   "metadata": {},
   "outputs": [],
   "source": [
    "struct DFMModel\n",
    "    data::AbstractArray\n",
    "    inclcode::Vector{Int}\n",
    "    T::Int  # number of whole data periods\n",
    "    ns::Int\n",
    "    nt_min_factor_estimation::Int\n",
    "    nt_min_factorloading_estimation::Int\n",
    "    initperiod::Int\n",
    "    lastperiod::Int\n",
    "    nfac_o::Int\n",
    "    nfac_u::Int\n",
    "    nfac_t::Int\n",
    "    tol::Float64\n",
    "    fes::FactorEstimateStats\n",
    "    factor::AbstractArray\n",
    "    lambda::AbstractArray\n",
    "    uar_coef::AbstractArray\n",
    "    uar_ser::Vector{Float64}\n",
    "    n_uarlag::Int\n",
    "    n_factorlag::Int\n",
    "    factor_var_model::VARModel\n",
    "    r2::Vector{Union{Missing, Float64}}\n",
    "end"
   ]
  },
  {
   "cell_type": "code",
   "execution_count": null,
   "metadata": {},
   "outputs": [],
   "source": [
    "function DFMModel(data, inclcode,\n",
    "    nt_min_factor_estimation::Integer, nt_min_factorloading_estimation::Integer,\n",
    "    initperiod::Integer, lastperiod::Integer,\n",
    "    nfac_o::Integer, nfac_u::Integer, tol, n_uarlag::Integer, n_factorlag::Integer)\n",
    "    size(data, 2) == length(inclcode) || error(\"length of inclcode must equal to number of data series\")\n",
    "    initperiod < lastperiod || error(\"initperiod must be smaller than lastperiod\")\n",
    "    ((n_uarlag > 0) && (n_factorlag > 0)) || error(\"n_uarlag and n_factorlag must be positive\")\n",
    "\n",
    "    T, ns = size(data)\n",
    "    nfac_t = nfac_o+nfac_u\n",
    "    fes = FactorEstimateStats(lastperiod - initperiod + 1,\n",
    "                              count(inclcode.==1),\n",
    "                              missing, missing, missing,\n",
    "                              Vector{Union{Missing, Float64}}(undef, count(inclcode.==1)))\n",
    "    factor = Matrix{Union{Missing, Float64}}(missing, T, nfac_t)\n",
    "    lambda = Matrix{Float64}(undef, ns, nfac_t)\n",
    "    uar_coef = Matrix{Float64}(undef, ns, n_uarlag)\n",
    "    uar_ser = Vector{Float64}(undef, ns)\n",
    "    factor_var_model = VARModel(factor, n_factorlag, initperiod= initperiod,\n",
    "                                lastperiod=lastperiod)\n",
    "    return DFMModel(data, vec(inclcode), T, ns,\n",
    "                    nt_min_factor_estimation, nt_min_factorloading_estimation,\n",
    "                    initperiod, lastperiod, nfac_o, nfac_u, nfac_t,\n",
    "                    tol, fes, factor, lambda, uar_coef, uar_ser,\n",
    "                    n_uarlag, n_factorlag, factor_var_model,\n",
    "                    Vector{Union{Missing, Float64}}(undef, ns))\n",
    "end"
   ]
  },
  {
   "cell_type": "code",
   "execution_count": null,
   "metadata": {},
   "outputs": [],
   "source": [
    "function drop_missing_row(A::AbstractMatrix)\n",
    "    tmp = .!any(ismissing.(A), dims=2)\n",
    "    return Float64.(A[vec(tmp), :]), tmp\n",
    "end"
   ]
  },
  {
   "cell_type": "code",
   "execution_count": null,
   "metadata": {},
   "outputs": [],
   "source": [
    "function drop_missing_col(A::AbstractMatrix)\n",
    "    tmp = drop_missing_row(A')\n",
    "    return tmp[1]', tmp[2]'\n",
    "end"
   ]
  },
  {
   "cell_type": "code",
   "execution_count": null,
   "metadata": {},
   "outputs": [],
   "source": [
    "function pca_score(X, nfac_u::Integer)\n",
    "    _, _, V = svd(X)\n",
    "    score = (X*V)[:, 1:nfac_u]\n",
    "    return score\n",
    "end"
   ]
  },
  {
   "cell_type": "markdown",
   "metadata": {},
   "source": [
    "##### `ols`\n",
    "###### Arguments\n",
    "- `y::AbstractVector`: length `T` Vector or `TxN` Matrix where `T` is sample size and `N` is the number of regressed variables\n",
    "- `X::AbstractArray`: `TxK` Matrix where `K` is the number of regressors\n",
    "###### Outputs\n",
    "- `b`: OLS estimator of the coefficients\n",
    "- `e`: residual"
   ]
  },
  {
   "cell_type": "code",
   "execution_count": null,
   "metadata": {},
   "outputs": [],
   "source": [
    "function ols(y::AbstractArray, X::AbstractArray)\n",
    "#     b = llsq(X, y; bias=false)\n",
    "    b = X\\y\n",
    "    e = y - X*b\n",
    "    return b, e\n",
    "end"
   ]
  },
  {
   "cell_type": "code",
   "execution_count": null,
   "metadata": {},
   "outputs": [],
   "source": [
    "abstract type OLSSkipRule end\n",
    "struct Balanced <: OLSSkipRule end\n",
    "struct Unbalanced <: OLSSkipRule end"
   ]
  },
  {
   "cell_type": "markdown",
   "metadata": {},
   "source": [
    "##### `ols_skipmissing`\n",
    "do OLS ignoring samples containing missing values\n",
    "###### Outputs\n",
    "- `b`: OLS estimator of the coefficients\n",
    "- `e`: residual\n",
    "- `numrow`: BitArray inidicating rows used to estimate"
   ]
  },
  {
   "cell_type": "code",
   "execution_count": null,
   "metadata": {},
   "outputs": [],
   "source": [
    "function ols_skipmissing(y::AbstractMatrix, X::AbstractArray, ::Balanced)\n",
    "    N = size(y, 2)\n",
    "    tmp, numrow = drop_missing_row([y X])\n",
    "    y_used, x_used = tmp[:, 1:N], tmp[:, N+1:end]\n",
    "    b, e = ols(y_used, x_used)\n",
    "    return b, e, vec(numrow)\n",
    "end\n",
    "function ols_skipmissing(y::AbstractVector, X::AbstractArray, method::Balanced)\n",
    "    b, e, numrow = ols_skipmissing(reshape(y, size(y, 1), size(y, 2)), X, method)\n",
    "    return b, vec(e), numrow\n",
    "end"
   ]
  },
  {
   "cell_type": "markdown",
   "metadata": {},
   "source": [
    "##### `ols_skipmissing`\n",
    "###### Arguments\n",
    "- `y::AbstractMatrix`: `TxN`\n",
    "- `X::AbstractArray`: `TxK` Matrix or `T` Vector"
   ]
  },
  {
   "cell_type": "code",
   "execution_count": null,
   "metadata": {},
   "outputs": [],
   "source": [
    "function ols_skipmissing(y::AbstractMatrix, X::AbstractArray, ::Unbalanced)\n",
    "    if size(y, 1) != size(X, 1)\n",
    "        error(\"Sample size must be same\")\n",
    "    end\n",
    "    T, N = size(y)\n",
    "    b = Matrix{Float64}(undef, size(X, 2), N)\n",
    "    e = Matrix{Union{Missing, Float64}}(missing, T, N)\n",
    "    numrow = BitArray(undef, T, N)\n",
    "    for i=1:N\n",
    "        tmp = ols_skipmissing(y[:, i], X, Balanced())\n",
    "        b[:, i] = tmp[1]\n",
    "        e[tmp[3], i] = tmp[2]\n",
    "        numrow[:, i] = tmp[3]\n",
    "    end\n",
    "    return b, e, numrow\n",
    "end"
   ]
  },
  {
   "cell_type": "code",
   "execution_count": null,
   "metadata": {},
   "outputs": [],
   "source": [
    "function lagmat(X::AbstractArray, lags::AbstractVector)\n",
    "    nc = size(X, 2)\n",
    "    Xlag = Matrix{Union{Missing, Float64}}(missing, size(X, 1), nc*length(lags))\n",
    "    for (i, lag) in enumerate(lags)\n",
    "        Xlag[lag+1:end, nc*(i-1)+1:nc*i] .= X[1:end-lag, :]\n",
    "    end\n",
    "    return Xlag\n",
    "end\n",
    "lagmat(X::AbstractArray, lag::Integer) = lagmat(X, [lag])\n",
    "\n",
    "function uar(y::AbstractVector, n_lags::Integer)\n",
    "    x = lagmat(y, 1:n_lags)\n",
    "    arcoef, ehat, _ = ols_skipmissing(y, x, Balanced())\n",
    "    ssr = dot(ehat, ehat)\n",
    "    ser = sqrt(ssr/(size(x, 1)-size(x, 2)))\n",
    "    return arcoef, ser\n",
    "end"
   ]
  },
  {
   "cell_type": "markdown",
   "metadata": {},
   "source": [
    "##### `estimate_factor!`\n",
    "estimate factor by iteration using balanced data\n"
   ]
  },
  {
   "cell_type": "code",
   "execution_count": null,
   "metadata": {},
   "outputs": [],
   "source": [
    "function estimate_factor!(m::DFMModel, max_iter::Integer=100000000,\n",
    "                         computeR2::Bool=true; lam_constr=nothing)\n",
    "    data = m.data\n",
    "    initperiod, lastperiod, nt_min, nfac_u, nfac_o, tol =\n",
    "        m.initperiod, m.lastperiod, m.nt_min_factor_estimation,\n",
    "        m.nfac_u, m.nfac_o, m.tol\n",
    "    # use part of the data\n",
    "    est_data = data[:, m.inclcode.==1]\n",
    "    xdata = est_data[initperiod:lastperiod, :]\n",
    "\n",
    "    # preprocess data to have unit standard error\n",
    "    xdata_standardized, xdatastd = standardize_data(xdata)\n",
    "    standardize_constraint!(lam_constr, xdatastd)\n",
    "\n",
    "    m.fes.tss = sum(skipmissing(xdata_standardized.^2))\n",
    "    m.fes.nobs = length(xdata_standardized[.!ismissing.(xdata_standardized)])\n",
    "\n",
    "    xbal, _ = drop_missing_col(xdata_standardized)\n",
    "\n",
    "    # Get initial F_t given Lambda_t using PCA\n",
    "    f = pca_score(xbal, nfac_u)\n",
    "    m.fes.ssr = 0\n",
    "    diff = 1000\n",
    "    lambda = Array{Union{Missing, Float64}}(undef, m.fes.ns, m.nfac_t)\n",
    "    for iter = 1:max_iter\n",
    "        ssr_old = m.fes.ssr\n",
    "        # given F_t, get Lambda_t\n",
    "        for i = 1:m.fes.ns\n",
    "            tmp, usedrows = drop_missing_row([xdata_standardized[:, i] f])\n",
    "            if count(usedrows) >= nt_min\n",
    "                lambda_tmp, e, numrow =\n",
    "                    ols_skipmissing(xdata_standardized[:, i], f, Balanced())\n",
    "                lambda[i, :] = lambda_tmp'\n",
    "                impose_constraint!(view(lambda, i, :), i, f[numrow, :], lam_constr, :factor)\n",
    "            end\n",
    "        end\n",
    "        # given Lambda_t, get F_t by regressing X_t on Lambda_t for each t\n",
    "        tmp = ols_skipmissing(xdata_standardized', lambda[:, nfac_o+1:end], Unbalanced())\n",
    "        f, ehat = tmp[1]', tmp[2]\n",
    "        m.fes.ssr = sum(sum(skipmissing(ehat.^2)))\n",
    "        diff = abs(ssr_old - m.fes.ssr)\n",
    "        diff >= tol*m.fes.T*m.fes.ns || break\n",
    "        # println(\"diff = \", diff)\n",
    "    end\n",
    "    m.factor[initperiod:lastperiod,  :] = f\n",
    "    if computeR2\n",
    "        for i=1:m.fes.ns\n",
    "            tmp = drop_missing_row([xdata_standardized[:, i] f])[1]\n",
    "            if size(tmp, 1) >= nt_min\n",
    "                bhat, ehat = ols(tmp[:, 1], tmp[:, 2:end])\n",
    "                m.fes.R2[i] = compute_r2(tmp[:, 1], ehat)[1]\n",
    "            end\n",
    "        end\n",
    "    end\n",
    "    return nothing\n",
    "end"
   ]
  },
  {
   "cell_type": "code",
   "execution_count": null,
   "metadata": {},
   "outputs": [],
   "source": [
    "function estimate_factor_loading!(m::DFMModel; lam_constr=nothing)\n",
    "    data, initperiod, lastperiod, fac, nt_min, nfac_t, n_uarlag =\n",
    "        m.data, m.initperiod, m.lastperiod, m.factor,\n",
    "        m.nt_min_factorloading_estimation, m.nfac_t, m.n_uarlag\n",
    "    n_series = size(data, 2)\n",
    "    for is = 1:n_series\n",
    "        tmp, numrow = drop_missing_row([data[initperiod:lastperiod, is] fac[initperiod:lastperiod, :]])\n",
    "        if count(numrow) >= nt_min # if available sample size is large enough\n",
    "            X = [tmp[:, 2:end] ones(count(numrow))]\n",
    "            b, uhat = ols(tmp[:, 1], X)\n",
    "            impose_constraint!(b, uhat, tmp[:, 1], is, X, lam_constr, :loading)\n",
    "            y_used = data[initperiod:lastperiod, is][vec(numrow), :]\n",
    "            m.lambda[is, :] .= b[1:end-1]\n",
    "            m.r2[is], _, _ = compute_r2(y_used, uhat)\n",
    "            if m.r2[is] < 0.9999\n",
    "                arcoef, ser = uar(uhat, n_uarlag)\n",
    "            else\n",
    "                arcoef, ser = zeros(n_uarlag, 1), 0.0\n",
    "            end\n",
    "        end\n",
    "        m.uar_coef[is, :] = arcoef'\n",
    "        m.uar_ser[is] = ser\n",
    "    end\n",
    "    return nothing\n",
    "end"
   ]
  },
  {
   "cell_type": "code",
   "execution_count": null,
   "metadata": {},
   "outputs": [],
   "source": [
    "function VARModel(y::AbstractArray, nlag::Integer=1;\n",
    "                  withconst::Bool=true,\n",
    "                  initperiod::Integer=1, lastperiod::Integer=size(y, 1))\n",
    "    T, ns = size(y, 1), size(y, 2)\n",
    "    resid = Array{Union{Missing, Float64}}(missing, size(y))\n",
    "    betahat = Matrix{Union{Missing, Float64}}(missing, ns*nlag+withconst, ns)\n",
    "    M = Matrix{Union{Missing, Float64}}(missing, ns*nlag, ns*nlag)\n",
    "    Q = Matrix{Union{Missing, Float64}}(missing, ns, ns*nlag)\n",
    "    G = Matrix{Union{Missing, Float64}}(missing, ns*nlag, ns)\n",
    "    seps = Matrix{Union{Missing, Float64}}(missing, ns, ns)\n",
    "    return VARModel(y, nlag, withconst, initperiod, lastperiod, T, ns, resid, betahat, M, Q, G, seps)\n",
    "end"
   ]
  },
  {
   "cell_type": "code",
   "execution_count": null,
   "metadata": {},
   "outputs": [],
   "source": [
    "function estimate_var!(varm::VARModel, compute_matrices::Bool=true)\n",
    "    initperiod, lastperiod = varm.initperiod, varm.lastperiod\n",
    "    withconst, nlag = varm.withconst, varm.nlag\n",
    "    resid, seps = varm.resid, varm.seps\n",
    "\n",
    "    y_restricted = varm.y[initperiod:lastperiod, :]\n",
    "\n",
    "    # regressors\n",
    "    withconst || (x = lagmat(y_restricted, 1:nlag))\n",
    "    !withconst || (x = [ones(lastperiod-initperiod+1) lagmat(y_restricted, 1:nlag)])\n",
    "\n",
    "    # do OLS ignoring the samples containing NaN\n",
    "    betahat, ehat, numrows = ols_skipmissing(y_restricted, x, Balanced())\n",
    "    varm.betahat .= betahat\n",
    "\n",
    "    T_used = count(numrows) # used sample size\n",
    "    K = size(x, 2) # number of regressors\n",
    "\n",
    "    ndf = T_used - K # degree of freedom (T-K)\n",
    "    seps .= ehat'*ehat/ndf # covariance matrix of error term\n",
    "    resid[initperiod- 1 .+ findall(numrows), :] .= ehat\n",
    "\n",
    "    !compute_matrices || fill_matrices!(varm, betahat)\n",
    "    return nothing\n",
    "end"
   ]
  },
  {
   "cell_type": "code",
   "execution_count": null,
   "metadata": {},
   "outputs": [],
   "source": [
    "function fill_matrices!(varm::VARModel, betahat::Array)\n",
    "    ns, nlag = varm.ns, varm.nlag\n",
    "    M, Q, G = varm.M, varm.Q, varm.G\n",
    "\n",
    "    b = betahat[2:end, :]' # now, each row corresponds to each equation\n",
    "\n",
    "    M .= zeros(ns*nlag, ns*nlag)\n",
    "    M[1:ns, :] .= b # coefficients of VAR\n",
    "    M[ns+1:end, 1:end-ns] .= Matrix{Float64}(I, ns*nlag-ns, ns*nlag-ns)　# lag part\n",
    "\n",
    "    Q .= zeros(ns, ns*nlag)\n",
    "    Q[1:ns, 1:ns] .= Matrix{Float64}(I, ns, ns)\n",
    "    G .= zeros(ns*nlag, ns)\n",
    "    G[1:ns, 1:ns] .= ((cholesky(varm.seps)).U)'\n",
    "    return nothing\n",
    "end"
   ]
  },
  {
   "cell_type": "code",
   "execution_count": null,
   "metadata": {},
   "outputs": [],
   "source": [
    "function standardize_data(data::AbstractArray)\n",
    "    datamean = [mean(collect(skipmissing(data[:, i]))) for i = 1:size(data, 2)]'\n",
    "    # # make correction (which I don't understand why being needed)\n",
    "    tmp = size(data, 1) .- sum(ismissing.(data), dims = 1)\n",
    "    tmp = (tmp.-1)./tmp\n",
    "    datastd = [std(collect(skipmissing(data[:, i]))) for i = 1:size(data, 2)]'.*(tmp.^.5)\n",
    "    data_standardized = (data .- datamean)./datastd\n",
    "    return data_standardized, datastd\n",
    "end"
   ]
  },
  {
   "cell_type": "markdown",
   "metadata": {},
   "source": [
    "##### `estimate!`\n",
    "estimate DFM Model non-parametrically\n",
    "###### Procedure\n",
    "1. estimate factor $F$ using balanced data\n",
    "1. estimate factor loading $\\Lambda$ using full sample\n",
    "1. estimate the equation of factor evolution"
   ]
  },
  {
   "cell_type": "code",
   "execution_count": null,
   "metadata": {},
   "outputs": [],
   "source": [
    "function estimate!(m::DFMModel, ::NonParametric=NonParametric();\n",
    "                   lam_constr_f=nothing, lam_constr_fl=nothing)\n",
    "\n",
    "    # estimate factor using balanced data\n",
    "    estimate_factor!(m, lam_constr=lam_constr_f)\n",
    "\n",
    "    # estimate factor loading using full sample\n",
    "    estimate_factor_loading!(m, lam_constr=lam_constr_fl)\n",
    "\n",
    "    # estimate the equation of factor evolution\n",
    "    estimate_var!(m.factor_var_model)\n",
    "\n",
    "    return nothing\n",
    "end"
   ]
  },
  {
   "cell_type": "code",
   "execution_count": null,
   "metadata": {},
   "outputs": [],
   "source": [
    "compute_series(dfmm::DFMModel, is::Integer) = dfmm.factor*dfmm.lambda[is, :]\n",
    "detrended_year_growth(y::AbstractVector) = vec(sum(lagmat(y, 0:3), dims=2))\n",
    "\n",
    "find_row_number(date::Tuple{Int, Int}, dates) =\n",
    "    findall([date == dataset.calds[i] for i=1:length(dataset.calds)])[1]"
   ]
  },
  {
   "cell_type": "code",
   "execution_count": null,
   "metadata": {},
   "outputs": [],
   "source": [
    "function compute_r2(y::AbstractArray, e::AbstractVector)\n",
    "    ssr = dot(e, e)\n",
    "    tss = dot(y.-mean(y), y.-mean(y))\n",
    "    return 1-(ssr/tss), ssr, tss\n",
    "end"
   ]
  },
  {
   "cell_type": "markdown",
   "metadata": {},
   "source": [
    "##### `compute_bw_weight`\n",
    "compute Tukey’s biweight filter $w(L)$:\n",
    "$$w_j=\\left\\{\\begin{array}{ll}\n",
    "c\\left(1-\\left(\\frac{j}{B}\\right)^2\\right)^2 &\\text{ for }|j|\\leq B\\\\\n",
    "0 &\\text{ otherwise }\n",
    "\\end{array}\\right.$$\n",
    "where $B$ is the bandwidth (truncation) parameter and $c$ is a normalization constant such that $w(1)=\\sum_{j=-B}^B w_j=1$."
   ]
  },
  {
   "cell_type": "code",
   "execution_count": null,
   "metadata": {},
   "outputs": [],
   "source": [
    "function compute_bw_weight(B::Integer)\n",
    "    bw_weight = zeros(2B+1)\n",
    "    for i=0:B\n",
    "        bw_weight[B+1+i] = bw_weight[B+1-i] = (1-(i/B)^2)^2\n",
    "    end\n",
    "    bw_weight = bw_weight./sum(bw_weight) # make normalization\n",
    "    return bw_weight\n",
    "end"
   ]
  },
  {
   "cell_type": "markdown",
   "metadata": {},
   "source": [
    "##### `compute_gain`\n",
    "Calculate the spectral gain $\\|w(e^{i\\lambda})\\| $ of filter $w(L)$ at frequency $\\lambda$ where $\\|\\cdot\\|$ is complex norm \n",
    "\n",
    "$$gain=\\left\\|w_{-B}e^{-Bi\\lambda}+w_{-(B-1)}e^{-(B-1)i\\lambda}+\\dots+w_{0}+\\dots+w_{B-1}e^{(B-1)i\\lambda}+w_{B}e^{Bi\\lambda}\\right\\|$$\n",
    "###### Detail\n",
    "\n",
    "###### Arguments\n",
    "- `w`: weight \n",
    "- `lambda`: frequency "
   ]
  },
  {
   "cell_type": "code",
   "execution_count": null,
   "metadata": {},
   "outputs": [],
   "source": [
    "function compute_gain(w::AbstractVector, lambda::Real)\n",
    "    B = (length(w)-1)/2\n",
    "    z = exp(lambda*im)\n",
    "    z1 = exp(-lambda*im*B)\n",
    "    gain = w[1]*z1\n",
    "    for i = 2:length(w)\n",
    "        z1 = z1*z\n",
    "        gain = gain + w[i]*z1\n",
    "    end\n",
    "    return abs(gain)\n",
    "end"
   ]
  },
  {
   "cell_type": "markdown",
   "metadata": {},
   "source": [
    "##### `bai_ng_critetion`\n"
   ]
  },
  {
   "cell_type": "code",
   "execution_count": null,
   "metadata": {},
   "outputs": [],
   "source": [
    "function bai_ng_criterion(m::DFMModel)\n",
    "    fes = m.fes\n",
    "    nbar = fes.nobs/fes.T # average observation per period\n",
    "    g = log(min(nbar, fes.T))*(nbar+fes.T)/fes.nobs\n",
    "    bn_icp = log(fes.ssr/fes.nobs)+ m.nfac_t*g\n",
    "    return bn_icp\n",
    "end"
   ]
  },
  {
   "cell_type": "markdown",
   "metadata": {},
   "source": [
    "##### `FactorNumberEstimateStats`"
   ]
  },
  {
   "cell_type": "code",
   "execution_count": null,
   "metadata": {},
   "outputs": [],
   "source": [
    "struct FactorNumberEstimateStats\n",
    "    bn_icp\n",
    "    ssr_static\n",
    "    R2_static\n",
    "    aw_icp\n",
    "    ssr_dynamic\n",
    "    R2_dynamic\n",
    "    tss::Float64\n",
    "    nobs::Int\n",
    "    T::Int\n",
    "end"
   ]
  },
  {
   "cell_type": "markdown",
   "metadata": {},
   "source": [
    "##### `estimate_factor_numbers`\n",
    "###### Arguments\n",
    "- `m::DFMModel`: `DFMModel` specifying the model except number of unobservable factors."
   ]
  },
  {
   "cell_type": "code",
   "execution_count": null,
   "metadata": {},
   "outputs": [],
   "source": [
    "function estimate_factor_numbers(m::DFMModel, nfacs::Union{Real, AbstractVector})\n",
    "    max_nfac = maximum(nfacs)\n",
    "    bn_icp = Vector{Union{Missing, Float64}}(undef, max_nfac)\n",
    "    ssr_static = Vector{Float64}(undef, max_nfac)\n",
    "    R2_static = Matrix{Union{Missing, Float64}}(undef, m.fes.ns, max_nfac)\n",
    "    aw_icp = Matrix{Union{Missing, Float64}}(undef, max_nfac, max_nfac)\n",
    "    ssr_dynamic = Matrix{Union{Missing, Float64}}(undef, max_nfac, max_nfac)\n",
    "    R2_dynamic = Array{Union{Missing, Float64}}(undef, m.fes.ns, max_nfac, max_nfac)\n",
    "\n",
    "#     global tss, nobs, T\n",
    "    for (i, nfac) = enumerate(1:max_nfac)\n",
    "        dfmm = DFMModel(m.data, m.inclcode,\n",
    "                m.nt_min_factor_estimation, m.nt_min_factorloading_estimation,\n",
    "                m.initperiod, m.lastperiod, m.nfac_o, nfac, m.tol, m.n_uarlag, m.n_factorlag)\n",
    "        estimate_factor!(dfmm)\n",
    "        bn_icp[i] = bai_ng_criterion(dfmm)\n",
    "        ssr_static[i] = dfmm.fes.ssr\n",
    "        R2_static[:, i] = dfmm.fes.R2\n",
    "        aw_icp[1:nfac, i], ssr_dynamic[1:nfac, i], R2_dynamic[:, 1:nfac, i] =\n",
    "            amengual_watson_test(dfmm, 4)\n",
    "        global tss = dfmm.fes.tss\n",
    "        global nobs = dfmm.fes.nobs\n",
    "        global T = dfmm.fes.T\n",
    "    end\n",
    "    return FactorNumberEstimateStats(bn_icp, ssr_static, R2_static,\n",
    "                                     aw_icp, ssr_dynamic, R2_dynamic,\n",
    "                                     tss, nobs, T)\n",
    "end"
   ]
  },
  {
   "cell_type": "code",
   "execution_count": null,
   "metadata": {},
   "outputs": [],
   "source": [
    "function amengual_watson_test(m::DFMModel, nper::Integer)\n",
    "    factor = m.factor\n",
    "    T, ns, nfac_static = m.T, m.fes.ns, m.nfac_t\n",
    "    nvar_lag = m.factor_var_model.nlag\n",
    "    est_data = m.data[:, m.inclcode.==1]\n",
    "\n",
    "    # Construct lags of factors and residuals for est_data\n",
    "    x = [ones(T) lagmat(factor, 1:nvar_lag)]\n",
    "    est_data_res = Array{Union{Missing, Float64}}(undef, T, ns)\n",
    "    for is = 1:ns\n",
    "        tmp, usedrows = drop_missing_row([est_data[:, is] x])\n",
    "        y = tmp[:, 1]\n",
    "        z = tmp[:, 2:end]\n",
    "        ndf = size(z, 1)-size(z, 2)\n",
    "        if ndf >= m.nt_min_factor_estimation  # Minimum degrees of freedom for series\n",
    "            b, e = ols(y, z)\n",
    "            est_data_res[findall(vec(usedrows)), is] = e\n",
    "        end\n",
    "    end\n",
    "\n",
    "    # Carry out calculations for number of dynamic factors\n",
    "    ssr = Array{Float64}(undef, nfac_static)\n",
    "    r2  = Array{Union{Missing, Float64}}(undef, ns, nfac_static)\n",
    "    aw  = Array{Float64}(undef, nfac_static)\n",
    "    for nfac = 1:nfac_static\n",
    "        dfmm = DFMModel(est_data_res, ones(count(m.inclcode.==1)),\n",
    "                m.nt_min_factor_estimation, m.nt_min_factorloading_estimation,\n",
    "                m.initperiod+4, m.lastperiod, 0, nfac, m.tol, m.n_uarlag, m.n_factorlag)\n",
    "        estimate_factor!(dfmm)\n",
    "        aw[nfac] = bai_ng_criterion(dfmm)\n",
    "        ssr[nfac] = dfmm.fes.ssr\n",
    "        r2[:, nfac] = dfmm.fes.R2\n",
    "    end\n",
    "    return aw, ssr, r2\n",
    "end"
   ]
  },
  {
   "cell_type": "markdown",
   "metadata": {},
   "source": [
    "##### `impulse_response`\n",
    "compute impulse response function of `VARModel` with one standard error shock\n",
    "$$y_t = Qz_t$$\n",
    "$$z_t = Mz_{t-1}+Gu_t$$\n",
    "###### Arguments\n",
    "- `varm::VARModel`\n",
    "- `shock_ids`: `<:AbstractVector` or `<:Real` or `:all`.\n",
    "- `T::Integer`:  horizon of IRF\n",
    "###### Return\n",
    "- `irfs::Array` IRFs. It is 2D if `shock_ids<:Real` and 3D otherwise. First dimension is each series, second dimension is time, third dimension is type of shock (if exist)."
   ]
  },
  {
   "cell_type": "code",
   "execution_count": null,
   "metadata": {},
   "outputs": [],
   "source": [
    "function impulse_response(G, Q, M, shock_ids::AbstractVector, T::Integer)\n",
    "    irfs = Array{Float64, 3}(undef, size(Q, 1), T, length(shock_ids))\n",
    "    for (i, shock_id) in enumerate(shock_ids)\n",
    "        compute_irf_single_shock!(irfs, G, Q, M, i, shock_id, T)\n",
    "    end\n",
    "    return irfs\n",
    "end\n",
    "impulse_response(varm::VARModel, \n",
    "    shock_ids::AbstractVector, T::Integer) =\n",
    "    impulse_response(varm.G, varm.Q, varm.M, shock_ids, T)"
   ]
  },
  {
   "cell_type": "code",
   "execution_count": null,
   "metadata": {},
   "outputs": [],
   "source": [
    "compute_irf_single_shock!(irfs::AbstractArray, varm::VARModel,\n",
    "                       i::Integer, shock_id::Integer, T::Integer) =\n",
    "    compute_irf_single_shock!(irfs, varm.G, varm.Q, varm.M, i, shock_id, T)\n",
    "function compute_irf_single_shock!(irfs::AbstractArray, G, Q, M,\n",
    "                       i::Integer, shock_id::Integer, T::Integer)\n",
    "    x = G[:, shock_id]\n",
    "    for t = 1:T\n",
    "        irfs[:, t, i] = Q * x\n",
    "        x .= M * x\n",
    "    end\n",
    "    return nothing\n",
    "end\n",
    "function impulse_response(varm::VARModel, shock_id::Real, T::Integer)\n",
    "    irfs = Matrix{Float64}(undef, size(varm.Q, 1), T)\n",
    "    compute_irf_single_shock!(irfs, varm, x, 1, shock_id, T)\n",
    "    return irfs\n",
    "end\n",
    "impulse_response(G, Q, M, shock_id::Symbol, T::Integer) =\n",
    "    impulse_response(G, Q, M, Val(shock_id), T)\n",
    "impulse_response(G, Q, M, shock_ids::Val{:all}, T::Integer) =\n",
    "    impulse_response(G, Q, M, 1:size(G, 2), T)\n",
    "impulse_response(varm::VARModel, shock_id::Symbol, T::Integer) =\n",
    "    impulse_response(varm, Val(shock_id), T)\n",
    "impulse_response(varm::VARModel, shock_ids::Val{:all}, T::Integer) =\n",
    "    impulse_response(varm.G, varm.Q, varm.M, 1:size(varm.G, 2), T)\n"
   ]
  },
  {
   "cell_type": "markdown",
   "metadata": {},
   "source": [
    "##### `form_kernel`\n",
    "create kernel $$1-\\frac{v}{q+1}$$ for all $i\\leq q$.\n",
    "\n",
    "###### Arguments\n",
    "- `q::Integer`: bandwidth parameter"
   ]
  },
  {
   "cell_type": "code",
   "execution_count": null,
   "metadata": {},
   "outputs": [],
   "source": [
    "# abstract type KernelType end\n",
    "# struct White <: KernelType end\n",
    "# struct Triangular <: KernelType \n",
    "#     nma::Int\n",
    "# end\n",
    "# struct Rectangular <: KernelType\n",
    "#     nma::Int\n",
    "# end"
   ]
  },
  {
   "cell_type": "code",
   "execution_count": null,
   "metadata": {},
   "outputs": [],
   "source": [
    "form_kernel(q::Integer) = [1-i/(q+1) for i = 0:q]"
   ]
  },
  {
   "cell_type": "code",
   "execution_count": null,
   "metadata": {},
   "outputs": [],
   "source": [
    "# form_kernel(kt::Triangular) = [1-i/(kt.nma+1) for i = 0:kt.nma]\n",
    "# form_kernel(kt::Rectangular) = ones(kt.nma+1)\n",
    "# form_kernel(kt::White) = ones(1, 1)"
   ]
  },
  {
   "cell_type": "markdown",
   "metadata": {},
   "source": [
    "##### `compute_chow`\n",
    "Letting $D_t$ take 1 in post sample period ($t> T_{break}$) and 0 otherwise ($t\\leq T_{break}$), regress \n",
    "$$ y_t = \\beta X_t+\\gamma(X_tD_t)$$\n",
    "and compute statics for F-test of $\\gamma=0$"
   ]
  },
  {
   "cell_type": "code",
   "execution_count": null,
   "metadata": {},
   "outputs": [],
   "source": [
    "function compute_chow(y::AbstractVector, X::AbstractArray,\n",
    "                      q::Integer, T_break::Integer)\n",
    "    k = size(X, 2)\n",
    "    T = length(y)\n",
    "    D = [zeros(T_break);\n",
    "         ones(T-T_break)]\n",
    "    betahat, vbeta, _ = regress_hac(y, [X X.*D], q)\n",
    "    gamma = betahat[k+1:end]\n",
    "    v1 = vbeta[k+1:end, k+1:end]\n",
    "    chow = gamma'/v1*gamma\n",
    "    return chow\n",
    "end"
   ]
  },
  {
   "cell_type": "markdown",
   "metadata": {},
   "source": [
    "##### `regress_hac`"
   ]
  },
  {
   "cell_type": "code",
   "execution_count": null,
   "metadata": {},
   "outputs": [],
   "source": [
    "function regress_hac(y::AbstractVector, X::AbstractArray, q::Integer)\n",
    "    betahat = X\\y\n",
    "    ehat = y - X*betahat\n",
    "    vbeta, se_beta = hac(ehat, X, q)\n",
    "    return betahat, vbeta, se_beta\n",
    "end"
   ]
  },
  {
   "cell_type": "markdown",
   "metadata": {},
   "source": [
    "##### `hac`\n",
    "\n",
    "###### Arguments\n",
    "- `u::AbstractVector`: `T`\n",
    "- `X::AbstractArray`: `Txk`\n",
    "- `q::Integer`: bandwidth parameter"
   ]
  },
  {
   "cell_type": "code",
   "execution_count": null,
   "metadata": {},
   "outputs": [],
   "source": [
    "function hac(u::AbstractVector, X::AbstractArray, q::Integer)\n",
    "    kernel = form_kernel(q)\n",
    "    z = X.*u\n",
    "    vbeta = form_hscrc(z, X, kernel, q)\n",
    "    se_beta = sqrt.(diag(vbeta))\n",
    "    return vbeta, se_beta\n",
    "end"
   ]
  },
  {
   "cell_type": "markdown",
   "metadata": {},
   "source": [
    "##### `form_hscrc`\n",
    "form hetero-serial correlation robust covariance\n",
    "\n",
    "###### Arguments\n",
    "- `X`: `Txk` matrix\n",
    "- `kernel`: weight of length `T`\n",
    "\n",
    "###### Returns\n",
    "- `vbeta`: `kxk` hetero-serial correlation robust covariance"
   ]
  },
  {
   "cell_type": "code",
   "execution_count": null,
   "metadata": {},
   "outputs": [],
   "source": [
    "function form_hscrc(z::AbstractArray, X, kernel, q::Integer)\n",
    "    k = size(X, 2)\n",
    "    v = zeros(k, k)\n",
    "    for i = -q:0\n",
    "        r1 = 1\n",
    "        r2 = size(z, 1) + i\n",
    "        v = v .+ kernel[-i+1]*z[r1:r2, :]'*z[r1-i:r2-i, :]\n",
    "    end\n",
    "    for i = 1:q\n",
    "        r1 = 1+i\n",
    "        r2 = size(z, 1)\n",
    "        v = v .+ kernel[i+1]*z[r1:r2, :]'*z[r1-i:r2-i, :]\n",
    "    end\n",
    "    XX = X'*X # k x k\n",
    "    vbeta = XX\\v/(XX') # k x k\n",
    "    return vbeta\n",
    "end"
   ]
  },
  {
   "cell_type": "code",
   "execution_count": null,
   "metadata": {},
   "outputs": [],
   "source": [
    "# form_hscrc(z, X, kernel, kt::White) = \n",
    "#     form_hscrc(z, X, kernel, 0)\n",
    "# form_hscrc(z, X, kernel, kt::Union{Triangular, Rectangular}) = \n",
    "#     form_hscrc(z, X, kernel, kt.nma)"
   ]
  },
  {
   "cell_type": "markdown",
   "metadata": {},
   "source": [
    "##### `compute_qlr`\n",
    "Compute Quandt Likelihood Ratio (QLR) Statistic\n",
    "\n",
    "###### Arguments\n",
    "- `X1`: regressors with fixed coefficients under both null and alternative. If all variables are varying under alternative, pass `nothing` as `x1`.\n",
    "- `X2`: regressors with fixed coefficients under null and time varying coefficients under alternative\n",
    "- `ccut::AbstractFloat`: must be between 0 and 0.5."
   ]
  },
  {
   "cell_type": "code",
   "execution_count": null,
   "metadata": {},
   "outputs": [],
   "source": [
    "function compute_qlr(y::AbstractVector, X1::Union{Nothing, AbstractArray},\n",
    "                     X2::AbstractArray,\n",
    "                     ccut::AbstractFloat, q::Integer)\n",
    "    T = length(y)\n",
    "    n1t = floor(Int, ccut*T)\n",
    "    n2t = T - n1t\n",
    "    k = size(X2, 2) #number of coefficients that can vary\n",
    "    if X1 == nothing\n",
    "        l = 0\n",
    "        X = X2\n",
    "    else\n",
    "        l = length(X1)\n",
    "        X = [X1,X2] # T x (l+k) where l=length(X1)\n",
    "    end\n",
    "    lr = Vector{Float64}(undef, n2t-n1t+1)\n",
    "    lrr = Vector{Float64}(undef, n2t-n1t+1)\n",
    "    for (i, T_break) in enumerate(n1t:n2t)\n",
    "        lr[i] = compute_chow(y, X, 0, T_break)\n",
    "        lrr[i] = compute_chow(y, X, q, T_break)\n",
    "    end\n",
    "    lm = maximum(lr)\n",
    "    lmr = maximum(lrr)\n",
    "    return lm, lmr\n",
    "end"
   ]
  },
  {
   "cell_type": "markdown",
   "metadata": {},
   "source": [
    "##### Constraint"
   ]
  },
  {
   "cell_type": "code",
   "execution_count": null,
   "metadata": {},
   "outputs": [],
   "source": [
    "struct LambdaConstraint\n",
    "    indices::Vector{Int}\n",
    "    R::Matrix{Float64}\n",
    "    r::Vector{Float64}\n",
    "    r_std::Vector{Float64}\n",
    "end"
   ]
  },
  {
   "cell_type": "markdown",
   "metadata": {},
   "source": [
    "##### `construct_constraint`\n",
    "construct constraint on lambda\n",
    "###### Arguments\n",
    "- `varnames`: \n",
    "- `used_varnames`\n",
    "- `R`\n",
    "- `r`"
   ]
  },
  {
   "cell_type": "code",
   "execution_count": null,
   "metadata": {},
   "outputs": [],
   "source": [
    "function construct_constraint(varnames::AbstractVector{String},\n",
    "                              used_varnames, R, r)\n",
    "    n_constr = length(varnames)\n",
    "    n_R = size(R, 1)\n",
    "    indices = Vector{Int}(undef, length(varnames)*n_R)\n",
    "    for (i, varname) in enumerate(varnames)\n",
    "        index = findall(used_varnames .== varname)\n",
    "        [indices[n_R*(i-1)+j] = index[1] for j = 1:n_R]\n",
    "    end\n",
    "    R_stack = repeat(R, n_constr)\n",
    "    r_stack = repeat(r, n_constr)\n",
    "    return LambdaConstraint(indices, R_stack, r_stack, similar(r_stack))\n",
    "end"
   ]
  },
  {
   "cell_type": "markdown",
   "metadata": {},
   "source": [
    "##### `impose_constraint!`\n",
    "###### Arguments\n",
    "- `b`: unconstrained coefficients\n",
    "- `R`: see above\n",
    "- `r`: see above\n",
    "- `lam_col`:\n",
    "- `i::Integer`: index of series\n",
    "- `X` regressors"
   ]
  },
  {
   "cell_type": "code",
   "execution_count": null,
   "metadata": {},
   "outputs": [],
   "source": [
    "function impose_constraint!(b, i::Integer, X, \n",
    "                            lam_constr::LambdaConstraint,\n",
    "                            forwhat::Symbol)\n",
    "    if i in lam_constr.indices\n",
    "        lam_col = lam_constr.indices\n",
    "        used_series = vec(lam_col.==i)\n",
    "        R_tmp, r = get_Rr(lam_constr, used_series, Val(forwhat))\n",
    "        r_tmp = r[used_series]\n",
    "        tmp = (X'*X)\\R_tmp'\n",
    "        b .= b .- tmp/(R_tmp*tmp)*(R_tmp*b-r_tmp)\n",
    "    end\n",
    "    return nothing\n",
    "end\n",
    "impose_constraint!(b, i::Integer, X, lam_constr::Nothing, forwhat::Symbol) = nothing\n",
    "\n",
    "get_Rr(lam_constr, used_series, ::Val{:factor}) = \n",
    "    (lam_constr.R[used_series, :],  lam_constr.r_std)\n",
    "get_Rr(lam_constr, used_series, ::Val{:loading}) = \n",
    "    (hcat(lam_constr.R[used_series, :], zeros(count(used_series))), lam_constr.r)"
   ]
  },
  {
   "cell_type": "markdown",
   "metadata": {},
   "source": [
    "##### `impose_constraint!`\n",
    "this version updates residual term as well\n",
    "###### Arguments\n",
    "- `b`: unconstrained coefficients\n",
    "- `e`: pre-allocated residual term vector\n",
    "- `y`: dependent variable\n",
    "- `R`: see above\n",
    "- `r`: see above\n",
    "- `lam_col`:\n",
    "- `i::Integer`: index of series\n",
    "- `X` regressors"
   ]
  },
  {
   "cell_type": "code",
   "execution_count": null,
   "metadata": {},
   "outputs": [],
   "source": [
    "function impose_constraint!(b, e, y, i::Integer, X, \n",
    "                            lam_constr::LambdaConstraint, forwhat::Symbol)\n",
    "    if i in lam_constr.indices\n",
    "        impose_constraint!(b, i, X, lam_constr, forwhat)\n",
    "        e .= y - X*b\n",
    "    end\n",
    "    return nothing\n",
    "end\n",
    "impose_constraint!(b, e, y, i::Integer, X, lam_constr::Nothing, forwhat::Symbol) = nothing"
   ]
  },
  {
   "cell_type": "code",
   "execution_count": null,
   "metadata": {},
   "outputs": [],
   "source": [
    "function standardize_constraint!(lam_constr::LambdaConstraint, xdatastd)\n",
    "    lam_constr.r_std .= lam_constr.r ./ xdatastd[lam_constr.indices]\n",
    "    return nothing\n",
    "end\n",
    "standardize_constraint!(lam_constr::Nothing, xdatastd) = nothing"
   ]
  },
  {
   "cell_type": "markdown",
   "metadata": {},
   "source": [
    "##### transform_to_level\n",
    "Transform impulse responses to level"
   ]
  },
  {
   "cell_type": "code",
   "execution_count": null,
   "metadata": {},
   "outputs": [],
   "source": [
    "function transform_to_level(irf) \n",
    "    transform_to_level!(irf)\n",
    "    return irf\n",
    "end\n",
    "function transform_to_level!(irf)\n",
    "    irf .= cumsum(irf)\n",
    "    return nothing\n",
    "end"
   ]
  },
  {
   "cell_type": "markdown",
   "metadata": {},
   "source": [
    "##### `irf_variance_decomposition`\n",
    "compute irf and variance decomposition of VAR model"
   ]
  },
  {
   "cell_type": "code",
   "execution_count": null,
   "metadata": {},
   "outputs": [],
   "source": [
    "function irf_variance_decomposition(dfmm::DFMModel, T_simul::Integer)\n",
    "    # Construct IRFs for 1-SD cholesky shocks\n",
    "    irf_factor =\n",
    "        impulse_response(dfmm.factor_var_model.G, \n",
    "                         dfmm.lambda*dfmm.factor_var_model.Q, \n",
    "                         dfmm.factor_var_model.M, :all, T_simul)\n",
    "    Q = hcat(1, zeros(1, dfmm.n_uarlag-1))\n",
    "    # Compute IRF wrt to own shock\n",
    "    irf_u = Matrix{Union{Missing, Float64}}(undef, dfmm.ns, T_simul) \n",
    "    for i = 1:dfmm.ns\n",
    "        M = [dfmm.uar_coef[i, :]';\n",
    "             hcat(Matrix{Float64}(I, dfmm.n_uarlag-1, dfmm.n_uarlag-1),\n",
    "                zeros(dfmm.n_uarlag-1))]\n",
    "        G = [dfmm.uar_ser[i];\n",
    "             zeros(dfmm.n_uarlag-1)]\n",
    "        irf_u[i, :] = impulse_response(G, Q, M, :all, T_simul)\n",
    "    end\n",
    "    # Transform IRFs so they are units of levels of series\n",
    "    for i = 1:dfmm.ns\n",
    "        transform_to_level!(view(irf_u, i, :))\n",
    "        for i_shock = 1:dfmm.nfac_t\n",
    "            transform_to_level!(view(irf_factor, i, :, i_shock))\n",
    "        end\n",
    "    end\n",
    "    \n",
    "    # Scale Impulse Responses by standard deviations\n",
    "    irf_factor_std = similar(irf_factor)\n",
    "    for i = 1:dfmm.nfac_t\n",
    "        irf_factor_std[:, :, i] = \n",
    "            irf_factor[:, :, i]/dfmm.factor_var_model.G[i, i]\n",
    "    end\n",
    "    \n",
    "    # Compute Variance Components for each Shock\n",
    "    v_composition_u = cumsum(irf_u.^2, dims=2) # variance component from own shocks\n",
    "    v_composition_factor = irf_factor.^2\n",
    "    v_total_factor = Matrix{Union{Missing, Float64}}(undef, dfmm.ns, T_simul)\n",
    "    for i = 1:dfmm.ns\n",
    "        # variance component from factors\n",
    "        v_composition_factor[i, :, :] = \n",
    "            cumsum(v_composition_factor[i, :, :], dims=1)\n",
    "        # total variance from factors\n",
    "        v_total_factor[i, :] = \n",
    "            sum(v_composition_factor[i, :, :], dims=2)\n",
    "    end\n",
    "    \n",
    "    v_total_y = v_total_factor + v_composition_u  # total variance by forecast horizon\n",
    "    v_frac_factor = v_total_factor./v_total_y # fraction from factor shocks\n",
    "    v_frac_y_composition = similar(v_composition_factor)\n",
    "    for i = 1:dfmm.nfac_t\n",
    "        v_frac_y_composition[:, :, i] = \n",
    "            v_composition_factor[:, :, i]./v_total_y\n",
    "    end\n",
    "    \n",
    "    # Compute Structural Shocks using VAR residuals and G matrix\n",
    "    # G*eps = resid\n",
    "    G = dfmm.factor_var_model.G[1:dfmm.nfac_t, 1:dfmm.nfac_t]\n",
    "    # Impose unit coefficients on diagonal of G\n",
    "    # GS*eps_s = resid\n",
    "    SG = Diagonal(G)\n",
    "    GS = G\\SG\n",
    "    eps_reducedform = dfmm.factor_var_model.resid\n",
    "    eps_structural = eps_reducedform*inv(GS') # Structural Errors Given G matrix\n",
    "                                              # inv is used instead of / to deal with missing\n",
    "    return eps_structural, irf_factor, irf_factor_std,\n",
    "           v_composition_factor, v_composition_u,\n",
    "           v_total_factor, v_frac_factor,\n",
    "           v_frac_y_composition\n",
    "end"
   ]
  },
  {
   "cell_type": "code",
   "execution_count": null,
   "metadata": {},
   "outputs": [],
   "source": []
  }
 ],
 "metadata": {
  "hide_input": false,
  "kernelspec": {
   "display_name": "Julia 1.0.2",
   "language": "julia",
   "name": "julia-1.0"
  },
  "language_info": {
   "file_extension": ".jl",
   "mimetype": "application/julia",
   "name": "julia",
   "version": "1.0.2"
  },
  "toc": {
   "colors": {
    "hover_highlight": "#DAA520",
    "running_highlight": "#FF0000",
    "selected_highlight": "#FFD700"
   },
   "moveMenuLeft": true,
   "nav_menu": {
    "height": "334.617px",
    "width": "252.233px"
   },
   "navigate_menu": true,
   "number_sections": true,
   "sideBar": true,
   "threshold": 4,
   "toc_cell": false,
   "toc_section_display": "block",
   "toc_window_display": false
  }
 },
 "nbformat": 4,
 "nbformat_minor": 2
}
